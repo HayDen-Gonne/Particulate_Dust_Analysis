{
 "cells": [
  {
   "cell_type": "code",
   "execution_count": 1,
   "metadata": {},
   "outputs": [],
   "source": [
    "# import library\n",
    "import numpy as np\n",
    "import pandas as pd\n",
    "import matplotlib.pyplot as plt\n",
    "import seaborn as sns\n"
   ]
  },
  {
   "cell_type": "code",
   "execution_count": 2,
   "metadata": {},
   "outputs": [
    {
     "name": "stdout",
     "output_type": "stream",
     "text": [
      "       MSR_DT STTN_NM  PM25  PM10     O3   CO    SO2    NO2     NO    NOX\n",
      "0  2021010101     명서동  11.0  22.0  0.022  0.5  0.003  0.023  0.009  0.032\n",
      "1  2021010102     명서동  12.0  16.0  0.028  0.4  0.003  0.015  0.007  0.022\n",
      "2  2021010103     명서동  13.0  21.0  0.031  0.4  0.003  0.013  0.006  0.019\n",
      "3  2021010104     명서동  15.0  19.0  0.028  0.4  0.003  0.013  0.006  0.019\n",
      "4  2021010105     명서동  15.0  22.0  0.024  0.4  0.003  0.015  0.006  0.021\n",
      "(1122344, 10)\n"
     ]
    },
    {
     "data": {
      "text/html": [
       "<div>\n",
       "<style scoped>\n",
       "    .dataframe tbody tr th:only-of-type {\n",
       "        vertical-align: middle;\n",
       "    }\n",
       "\n",
       "    .dataframe tbody tr th {\n",
       "        vertical-align: top;\n",
       "    }\n",
       "\n",
       "    .dataframe thead th {\n",
       "        text-align: right;\n",
       "    }\n",
       "</style>\n",
       "<table border=\"1\" class=\"dataframe\">\n",
       "  <thead>\n",
       "    <tr style=\"text-align: right;\">\n",
       "      <th></th>\n",
       "      <th>MSR_DT</th>\n",
       "      <th>STTN_NM</th>\n",
       "      <th>PM25</th>\n",
       "      <th>PM10</th>\n",
       "      <th>O3</th>\n",
       "      <th>CO</th>\n",
       "      <th>SO2</th>\n",
       "      <th>NO2</th>\n",
       "      <th>NO</th>\n",
       "      <th>NOX</th>\n",
       "    </tr>\n",
       "  </thead>\n",
       "  <tbody>\n",
       "    <tr>\n",
       "      <th>1122339</th>\n",
       "      <td>2023123120</td>\n",
       "      <td>부산항</td>\n",
       "      <td>0.0</td>\n",
       "      <td>0.0</td>\n",
       "      <td>0.038</td>\n",
       "      <td>0.4</td>\n",
       "      <td>0.002</td>\n",
       "      <td>0.011</td>\n",
       "      <td>NaN</td>\n",
       "      <td>NaN</td>\n",
       "    </tr>\n",
       "    <tr>\n",
       "      <th>1122340</th>\n",
       "      <td>2023123121</td>\n",
       "      <td>부산항</td>\n",
       "      <td>0.0</td>\n",
       "      <td>0.0</td>\n",
       "      <td>0.037</td>\n",
       "      <td>0.4</td>\n",
       "      <td>0.001</td>\n",
       "      <td>0.010</td>\n",
       "      <td>NaN</td>\n",
       "      <td>NaN</td>\n",
       "    </tr>\n",
       "    <tr>\n",
       "      <th>1122341</th>\n",
       "      <td>2023123122</td>\n",
       "      <td>부산항</td>\n",
       "      <td>0.0</td>\n",
       "      <td>0.0</td>\n",
       "      <td>0.035</td>\n",
       "      <td>0.4</td>\n",
       "      <td>0.001</td>\n",
       "      <td>0.012</td>\n",
       "      <td>NaN</td>\n",
       "      <td>NaN</td>\n",
       "    </tr>\n",
       "    <tr>\n",
       "      <th>1122342</th>\n",
       "      <td>2023123123</td>\n",
       "      <td>부산항</td>\n",
       "      <td>0.0</td>\n",
       "      <td>0.0</td>\n",
       "      <td>0.035</td>\n",
       "      <td>0.4</td>\n",
       "      <td>0.001</td>\n",
       "      <td>0.010</td>\n",
       "      <td>NaN</td>\n",
       "      <td>NaN</td>\n",
       "    </tr>\n",
       "    <tr>\n",
       "      <th>1122343</th>\n",
       "      <td>2023123124</td>\n",
       "      <td>부산항</td>\n",
       "      <td>0.0</td>\n",
       "      <td>0.0</td>\n",
       "      <td>0.030</td>\n",
       "      <td>0.4</td>\n",
       "      <td>0.001</td>\n",
       "      <td>0.012</td>\n",
       "      <td>NaN</td>\n",
       "      <td>NaN</td>\n",
       "    </tr>\n",
       "  </tbody>\n",
       "</table>\n",
       "</div>"
      ],
      "text/plain": [
       "             MSR_DT STTN_NM  PM25  PM10     O3   CO    SO2    NO2  NO  NOX\n",
       "1122339  2023123120     부산항   0.0   0.0  0.038  0.4  0.002  0.011 NaN  NaN\n",
       "1122340  2023123121     부산항   0.0   0.0  0.037  0.4  0.001  0.010 NaN  NaN\n",
       "1122341  2023123122     부산항   0.0   0.0  0.035  0.4  0.001  0.012 NaN  NaN\n",
       "1122342  2023123123     부산항   0.0   0.0  0.035  0.4  0.001  0.010 NaN  NaN\n",
       "1122343  2023123124     부산항   0.0   0.0  0.030  0.4  0.001  0.012 NaN  NaN"
      ]
     },
     "metadata": {},
     "output_type": "display_data"
    }
   ],
   "source": [
    "# import dataset\n",
    "import pandas as pd\n",
    "\n",
    "# 파일 경로 설정\n",
    "file_21 = '/Users/hayden/Desktop/2021년전체측정소자료.csv'\n",
    "file_22 = '/Users/hayden/Desktop/2022년전체측정소자료.csv'\n",
    "file_23 = '/Users/hayden/Desktop/2023년전체측정소자료.csv'\n",
    "\n",
    "# reading each csv file as data frame\n",
    "df_21 = pd.read_csv(file_21)\n",
    "df_22 = pd.read_csv(file_22)\n",
    "df_23 = pd.read_csv(file_23)\n",
    "\n",
    "# list \n",
    "dfs = [df_21, df_22, df_23]\n",
    "\n",
    "# concat\n",
    "df = pd.concat(dfs, ignore_index=True)\n",
    "\n",
    "# print and chenk result\n",
    "print(df.head())  # 합쳐진 데이터프레임의 첫 부분 출력\n",
    "print(df.shape)\n",
    "display(df.tail(5))"
   ]
  },
  {
   "cell_type": "code",
   "execution_count": 3,
   "metadata": {},
   "outputs": [
    {
     "name": "stderr",
     "output_type": "stream",
     "text": [
      "/var/folders/6k/r_smdd550yddqpmrhzs0gqyh0000gn/T/ipykernel_68774/2312931886.py:12: FutureWarning: Series.interpolate with object dtype is deprecated and will raise in a future version. Call obj.infer_objects(copy=False) before interpolating instead.\n",
      "  df[col] = df[col].interpolate(method='linear', limit_direction='both')\n"
     ]
    },
    {
     "name": "stdout",
     "output_type": "stream",
     "text": [
      "PM25 컬럼의 NULL 값 개수: 0\n",
      "PM10 컬럼의 NULL 값 개수: 0\n",
      "O3 컬럼의 NULL 값 개수: 0\n",
      "CO 컬럼의 NULL 값 개수: 0\n",
      "SO2 컬럼의 NULL 값 개수: 0\n",
      "NO2 컬럼의 NULL 값 개수: 0\n",
      "전체 데이터프레임의 NULL 값 개수: 0\n"
     ]
    }
   ],
   "source": [
    "import pandas as pd\n",
    "import numpy as np\n",
    "\n",
    "\n",
    "# interpolate \n",
    "for col in df.columns:\n",
    "    # if df[col].dtype != 'datetime64[ns]':\n",
    "    df[col] = df[col].interpolate(method='linear', limit_direction='both')\n",
    "\n",
    "df_copy = df.copy()\n",
    "\n",
    "# count nulls\n",
    "null_counts = df_copy.isnull().sum()\n",
    "\n",
    "# check null count on each columns\n",
    "PM25_null_count = df_copy['PM25'].isnull().sum()\n",
    "PM10_null_count = df_copy['PM10'].isnull().sum()\n",
    "O3_null_count = df_copy['O3'].isnull().sum()\n",
    "CO_null_count = df_copy['CO'].isnull().sum()\n",
    "SO2_null_count = df_copy['SO2'].isnull().sum()\n",
    "NO2_null_count = df_copy['NO2'].isnull().sum()\n",
    "\n",
    "print(\"PM25 컬럼의 NULL 값 개수:\", PM25_null_count)\n",
    "print(\"PM10 컬럼의 NULL 값 개수:\", PM10_null_count)\n",
    "print(\"O3 컬럼의 NULL 값 개수:\", O3_null_count)\n",
    "print(\"CO 컬럼의 NULL 값 개수:\", CO_null_count)\n",
    "print(\"SO2 컬럼의 NULL 값 개수:\", SO2_null_count)\n",
    "print(\"NO2 컬럼의 NULL 값 개수:\", NO2_null_count)\n",
    "\n",
    "# print total null count\n",
    "total_null_count = df_copy.isnull().sum().sum()\n",
    "print(\"전체 데이터프레임의 NULL 값 개수:\", total_null_count)"
   ]
  },
  {
   "cell_type": "code",
   "execution_count": 4,
   "metadata": {},
   "outputs": [
    {
     "name": "stdout",
     "output_type": "stream",
     "text": [
      "             MSR_DT STTN_NM  PM25  PM10     O3   CO    SO2    NO2\n",
      "0        2021010101     명서동  11.0  22.0  0.022  0.5  0.003  0.023\n",
      "1        2021010102     명서동  12.0  16.0  0.028  0.4  0.003  0.015\n",
      "2        2021010103     명서동  13.0  21.0  0.031  0.4  0.003  0.013\n",
      "3        2021010104     명서동  15.0  19.0  0.028  0.4  0.003  0.013\n",
      "4        2021010105     명서동  15.0  22.0  0.024  0.4  0.003  0.015\n",
      "...             ...     ...   ...   ...    ...  ...    ...    ...\n",
      "1117136  2023123120     마산항   0.0  11.0  0.037  0.4  0.001  0.013\n",
      "1117137  2023123121     마산항  15.0  15.0  0.036  0.4  0.001  0.012\n",
      "1117138  2023123122     마산항   0.0  14.0  0.035  0.4  0.001  0.012\n",
      "1117139  2023123123     마산항   0.0  11.0  0.032  0.4  0.001  0.014\n",
      "1117140  2023123124     마산항   0.0  16.0  0.031  0.4  0.001  0.013\n",
      "\n",
      "[1096258 rows x 8 columns]\n"
     ]
    }
   ],
   "source": [
    "df = df[~df['STTN_NM'].isin(['이동차', '부산항'])]\n",
    "df.drop(columns=['NO', 'NOX'], inplace=True)\n",
    "print(df)"
   ]
  },
  {
   "cell_type": "code",
   "execution_count": 5,
   "metadata": {},
   "outputs": [
    {
     "name": "stdout",
     "output_type": "stream",
     "text": [
      "               MSR_DT STTN_NM  PM25  PM10     O3   CO    SO2    NO2    Year  \\\n",
      "0 2021-01-01 01:00:00     명서동  11.0  22.0  0.022  0.5  0.003  0.023  2021.0   \n",
      "1 2021-01-01 02:00:00     명서동  12.0  16.0  0.028  0.4  0.003  0.015  2021.0   \n",
      "2 2021-01-01 03:00:00     명서동  13.0  21.0  0.031  0.4  0.003  0.013  2021.0   \n",
      "3 2021-01-01 04:00:00     명서동  15.0  19.0  0.028  0.4  0.003  0.013  2021.0   \n",
      "4 2021-01-01 05:00:00     명서동  15.0  22.0  0.024  0.4  0.003  0.015  2021.0   \n",
      "\n",
      "   Month  Hour  \n",
      "0    1.0   1.0  \n",
      "1    1.0   2.0  \n",
      "2    1.0   3.0  \n",
      "3    1.0   4.0  \n",
      "4    1.0   5.0  \n"
     ]
    }
   ],
   "source": [
    "import pandas as pd\n",
    "\n",
    "# to datetime\n",
    "df['MSR_DT'] = pd.to_datetime(df['MSR_DT'], format='%Y%m%d%H', errors='coerce')\n",
    "df['Year'] = df['MSR_DT'].dt.year\n",
    "df['Month'] = df['MSR_DT'].dt.month\n",
    "df['Hour'] = df['MSR_DT'].dt.hour\n",
    "\n",
    "print(df.head())\n"
   ]
  },
  {
   "cell_type": "code",
   "execution_count": 6,
   "metadata": {},
   "outputs": [
    {
     "name": "stdout",
     "output_type": "stream",
     "text": [
      "Requirement already satisfied: altair in /Users/hayden/anaconda3/lib/python3.11/site-packages (5.3.0)\n",
      "Requirement already satisfied: jinja2 in /Users/hayden/anaconda3/lib/python3.11/site-packages (from altair) (3.1.2)\n",
      "Requirement already satisfied: jsonschema>=3.0 in /Users/hayden/anaconda3/lib/python3.11/site-packages (from altair) (4.17.3)\n",
      "Requirement already satisfied: numpy in /Users/hayden/anaconda3/lib/python3.11/site-packages (from altair) (1.24.3)\n",
      "Requirement already satisfied: packaging in /Users/hayden/anaconda3/lib/python3.11/site-packages (from altair) (23.1)\n",
      "Requirement already satisfied: pandas>=0.25 in /Users/hayden/anaconda3/lib/python3.11/site-packages (from altair) (2.0.3)\n",
      "Requirement already satisfied: toolz in /Users/hayden/anaconda3/lib/python3.11/site-packages (from altair) (0.12.0)\n",
      "Requirement already satisfied: attrs>=17.4.0 in /Users/hayden/anaconda3/lib/python3.11/site-packages (from jsonschema>=3.0->altair) (22.1.0)\n",
      "Requirement already satisfied: pyrsistent!=0.17.0,!=0.17.1,!=0.17.2,>=0.14.0 in /Users/hayden/anaconda3/lib/python3.11/site-packages (from jsonschema>=3.0->altair) (0.18.0)\n",
      "Requirement already satisfied: python-dateutil>=2.8.2 in /Users/hayden/anaconda3/lib/python3.11/site-packages (from pandas>=0.25->altair) (2.8.2)\n",
      "Requirement already satisfied: pytz>=2020.1 in /Users/hayden/anaconda3/lib/python3.11/site-packages (from pandas>=0.25->altair) (2023.3.post1)\n",
      "Requirement already satisfied: tzdata>=2022.1 in /Users/hayden/anaconda3/lib/python3.11/site-packages (from pandas>=0.25->altair) (2023.3)\n",
      "Requirement already satisfied: MarkupSafe>=2.0 in /Users/hayden/anaconda3/lib/python3.11/site-packages (from jinja2->altair) (2.1.1)\n",
      "Requirement already satisfied: six>=1.5 in /Users/hayden/anaconda3/lib/python3.11/site-packages (from python-dateutil>=2.8.2->pandas>=0.25->altair) (1.16.0)\n"
     ]
    }
   ],
   "source": [
    "!pip install altair\n"
   ]
  },
  {
   "cell_type": "code",
   "execution_count": 7,
   "metadata": {},
   "outputs": [],
   "source": [
    "import pandas as pd\n",
    "import numpy as np\n",
    "import altair as alt\n",
    "import base64\n",
    "from sklearn.preprocessing import StandardScaler, MinMaxScaler\n",
    "\n",
    "# MinMaxScaler\n",
    "scaler = MinMaxScaler()\n",
    "numeric_columns = ['PM25', 'PM10', 'O3', 'CO', 'SO2', 'NO2']\n",
    "df[numeric_columns] = scaler.fit_transform(df[numeric_columns])\n",
    "\n",
    "# StandardScaler\n",
    "standard_scaler = StandardScaler()\n",
    "df[numeric_columns] = standard_scaler.fit_transform(df[numeric_columns])\n"
   ]
  },
  {
   "cell_type": "code",
   "execution_count": 12,
   "metadata": {},
   "outputs": [
    {
     "name": "stderr",
     "output_type": "stream",
     "text": [
      "/var/folders/6k/r_smdd550yddqpmrhzs0gqyh0000gn/T/ipykernel_68774/3653074472.py:6: FutureWarning: Series.fillna with 'method' is deprecated and will raise in a future version. Use obj.ffill() or obj.bfill() instead.\n",
      "  df['MSR_DT'] = df['MSR_DT'].fillna(method='ffill')  # 앞선 값으로 채우기\n"
     ]
    },
    {
     "data": {
      "image/png": "[encoded data removed]",
      "text/plain": [
       "<Figure size 1400x700 with 1 Axes>"
      ]
     },
     "metadata": {},
     "output_type": "display_data"
    }
   ],
   "source": [
    "import pandas as pd\n",
    "import matplotlib.pyplot as plt\n",
    "\n",
    "df['MSR_DT'] = pd.to_datetime(df['MSR_DT'], format='%Y%m%d%H', errors='coerce')\n",
    "df['MSR_DT'] = df['MSR_DT'].fillna(method='ffill')  # 앞선 값으로 채우기\n",
    "\n",
    "df['Year'] = df['MSR_DT'].dt.year\n",
    "df['Month'] = df['MSR_DT'].dt.month\n",
    "df['Hour'] = df['MSR_DT'].dt.hour\n",
    "\n",
    "# making function drawing graph\n",
    "def plot_ts(df, color, alpha, label):\n",
    "    plt.figure(figsize=(14, 7))\n",
    "    plt.plot(df['MSR_DT'], df['PM10'], color=color, alpha=alpha, label=label)  # 'value'는 실제 데이터 컬럼명으로 대체\n",
    "    plt.xlabel('Date')\n",
    "    plt.ylabel('Value')\n",
    "    plt.title('Time Series Data')\n",
    "    plt.legend()\n",
    "    plt.show()\n",
    "\n",
    "# \n",
    "plot_ts(df, 'blue', 0.25, 'Original')\n"
   ]
  },
  {
   "cell_type": "code",
   "execution_count": 14,
   "metadata": {},
   "outputs": [
    {
     "name": "stdout",
     "output_type": "stream",
     "text": [
      "1096258\n",
      "Train Data Size: 877006\n",
      "Test Data Size: 219252\n",
      "Train Data:\n",
      "               MSR_DT STTN_NM      PM25      PM10        O3        CO  \\\n",
      "0 2021-01-01 01:00:00     명서동 -0.388157 -0.226691 -0.610268  0.586933   \n",
      "1 2021-01-01 02:00:00     명서동 -0.293074 -0.447777 -0.283993 -0.043350   \n",
      "2 2021-01-01 03:00:00     명서동 -0.197991 -0.263539 -0.120855 -0.043350   \n",
      "3 2021-01-01 04:00:00     명서동 -0.007825 -0.337234 -0.283993 -0.043350   \n",
      "4 2021-01-01 05:00:00     명서동 -0.007825 -0.226691 -0.501509 -0.043350   \n",
      "\n",
      "        SO2       NO2  Year  Month  Hour  \n",
      "0  0.044484  0.899457  2021      1     1  \n",
      "1  0.044484  0.114779  2021      1     2  \n",
      "2  0.044484 -0.081391  2021      1     3  \n",
      "3  0.044484 -0.081391  2021      1     4  \n",
      "4  0.044484  0.114779  2021      1     5  \n",
      "                    MSR_DT STTN_NM      PM25      PM10        O3        CO  \\\n",
      "892969 2023-04-27 01:00:00     장유동 -0.197991  0.141785  0.314178 -0.358492   \n",
      "892970 2023-04-27 02:00:00     장유동 -0.007825  0.104937  0.151041 -0.421520   \n",
      "892971 2023-04-27 03:00:00     장유동  0.087258 -0.005605  0.042282 -0.106379   \n",
      "892972 2023-04-27 04:00:00     장유동  0.182341  0.178633 -0.229614 -0.358492   \n",
      "892973 2023-04-27 05:00:00     장유동  0.752840  0.252328 -0.555888 -0.547577   \n",
      "\n",
      "             SO2       NO2  Year  Month  Hour  \n",
      "892969  0.044484  0.507118  2023      4     1  \n",
      "892970  0.044484  0.507118  2023      4     2  \n",
      "892971  0.044484  0.409033  2023      4     3  \n",
      "892972  0.816153  0.605203  2023      4     4  \n",
      "892973  0.044484  1.291797  2023      4     5  \n",
      "\n",
      "Test Data:\n",
      "                    MSR_DT STTN_NM      PM25      PM10        O3        CO  \\\n",
      "892974 2023-04-27 06:00:00     장유동  0.182341  0.104937 -1.099680 -0.169407   \n",
      "892975 2023-04-27 07:00:00     장유동  0.087258  0.141785 -1.371576 -0.106379   \n",
      "892976 2023-04-27 08:00:00     장유동 -0.293074 -0.042453 -1.154059  0.019678   \n",
      "892977 2023-04-27 09:00:00     장유동 -0.102908  0.031242 -0.664647 -0.295464   \n",
      "892978 2023-04-27 10:00:00     장유동 -0.293074  0.031242  0.749211 -0.547577   \n",
      "\n",
      "             SO2       NO2  Year  Month  Hour  \n",
      "892974  0.044484  2.468814  2023      4     6  \n",
      "892975  0.044484  3.449662  2023      4     7  \n",
      "892976  0.044484  2.861154  2023      4     8  \n",
      "892977  0.816153  2.272645  2023      4     9  \n",
      "892978  0.044484  0.801373  2023      4    10  \n",
      "                     MSR_DT STTN_NM      PM25      PM10        O3       CO  \\\n",
      "1117136 2023-12-31 20:00:00     마산항 -1.434071 -0.632015  0.205420 -0.04335   \n",
      "1117137 2023-12-31 21:00:00     마산항 -0.007825 -0.484624  0.151041 -0.04335   \n",
      "1117138 2023-12-31 22:00:00     마산항 -1.434071 -0.521472  0.096661 -0.04335   \n",
      "1117139 2023-12-31 23:00:00     마산항 -1.434071 -0.632015 -0.066476 -0.04335   \n",
      "1117140 2023-12-31 23:00:00     마산항 -1.434071 -0.447777 -0.120855 -0.04335   \n",
      "\n",
      "              SO2       NO2  Year  Month  Hour  \n",
      "1117136 -1.498854 -0.081391  2023     12    20  \n",
      "1117137 -1.498854 -0.179476  2023     12    21  \n",
      "1117138 -1.498854 -0.179476  2023     12    22  \n",
      "1117139 -1.498854  0.016694  2023     12    23  \n",
      "1117140 -1.498854 -0.081391  2023     12    23  \n"
     ]
    }
   ],
   "source": [
    "# split data as train data(front part 80%), test data(20% of last)\n",
    " \n",
    "total_len = len(df)\n",
    "print(total_len)\n",
    "\n",
    "train_size = int(total_len * 0.8)\n",
    "\n",
    "train_data = df.iloc[:train_size]\n",
    "test_data = df.iloc[train_size:]\n",
    "\n",
    "print(f\"Train Data Size: {len(train_data)}\")\n",
    "print(f\"Test Data Size: {len(test_data)}\")\n",
    "\n",
    "print(\"Train Data:\")\n",
    "print(train_data.head())\n",
    "print(train_data.tail())\n",
    "print(\"\\nTest Data:\")\n",
    "print(test_data.head())\n",
    "print(test_data.tail())\n"
   ]
  },
  {
   "cell_type": "code",
   "execution_count": 23,
   "metadata": {},
   "outputs": [
    {
     "data": {
      "image/png": "[encoded data removed]",
      "text/plain": [
       "<Figure size 1400x700 with 1 Axes>"
      ]
     },
     "metadata": {},
     "output_type": "display_data"
    }
   ],
   "source": [
    "plt.figure(figsize=(14, 7))\n",
    "\n",
    "plt.plot(train_data['MSR_DT'], train_data['PM10'], label='Train PM10', color='blue')\n",
    "plt.plot(test_data['MSR_DT'], test_data['PM10'], label='Test PM10', color='green')\n",
    "\n",
    "plt.plot(train_data['MSR_DT'], train_data['PM25'], label='Train PM25', color='red')\n",
    "plt.plot(test_data['MSR_DT'], test_data['PM25'], label='Test PM25', color='orange')\n",
    "\n",
    "plt.title('PM10 and PM25 over Time')\n",
    "plt.xlabel('Date')\n",
    "plt.ylabel('Concentration')\n",
    "plt.legend()\n",
    "plt.grid(True)\n",
    "\n",
    "plt.gca().xaxis.set_major_locator(plt.MaxNLocator(10))  # X축 레이블 수 조정\n",
    "plt.gca().xaxis.set_major_formatter(plt.matplotlib.dates.DateFormatter('%Y-%m'))  # X축 레이블 형식 설정\n",
    "plt.gcf().autofmt_xdate()  # X축 레이블 자동 회전\n",
    "\n",
    "plt.show()"
   ]
  },
  {
   "cell_type": "code",
   "execution_count": 41,
   "metadata": {},
   "outputs": [
    {
     "name": "stdout",
     "output_type": "stream",
     "text": [
      "<class 'pandas.core.frame.DataFrame'>\n",
      "Index: 877006 entries, 0 to 892973\n",
      "Data columns (total 11 columns):\n",
      " #   Column   Non-Null Count   Dtype         \n",
      "---  ------   --------------   -----         \n",
      " 0   MSR_DT   877006 non-null  datetime64[ns]\n",
      " 1   STTN_NM  877006 non-null  object        \n",
      " 2   PM25     877006 non-null  float64       \n",
      " 3   PM10     877006 non-null  float64       \n",
      " 4   O3       877006 non-null  float64       \n",
      " 5   CO       877006 non-null  float64       \n",
      " 6   SO2      877006 non-null  float64       \n",
      " 7   NO2      877006 non-null  float64       \n",
      " 8   Year     877006 non-null  int32         \n",
      " 9   Month    877006 non-null  int32         \n",
      " 10  Hour     877006 non-null  int32         \n",
      "dtypes: datetime64[ns](1), float64(6), int32(3), object(1)\n",
      "memory usage: 70.3+ MB\n"
     ]
    }
   ],
   "source": [
    "train_data.info()"
   ]
  },
  {
   "cell_type": "code",
   "execution_count": 33,
   "metadata": {},
   "outputs": [
    {
     "name": "stdout",
     "output_type": "stream",
     "text": [
      "Collecting pmdarima\n",
      "  Obtaining dependency information for pmdarima from https://files.pythonhosted.org/packages/40/e5/78afab229ccdaf6b947036440799dbdf88e2cd632e2f96b81f32de8aa05a/pmdarima-2.0.4-cp311-cp311-macosx_11_0_arm64.whl.metadata\n",
      "  Using cached pmdarima-2.0.4-cp311-cp311-macosx_11_0_arm64.whl.metadata (7.8 kB)\n",
      "Requirement already satisfied: joblib>=0.11 in /opt/homebrew/lib/python3.11/site-packages (from pmdarima) (1.4.2)\n",
      "Collecting Cython!=0.29.18,!=0.29.31,>=0.29 (from pmdarima)\n",
      "  Obtaining dependency information for Cython!=0.29.18,!=0.29.31,>=0.29 from https://files.pythonhosted.org/packages/b6/83/b0a63fc7b315edd46821a1a381d18765c1353d201246da44558175cddd56/Cython-3.0.10-py2.py3-none-any.whl.metadata\n",
      "  Using cached Cython-3.0.10-py2.py3-none-any.whl.metadata (3.2 kB)\n",
      "Requirement already satisfied: numpy>=1.21.2 in /opt/homebrew/lib/python3.11/site-packages (from pmdarima) (1.26.2)\n",
      "Requirement already satisfied: pandas>=0.19 in /opt/homebrew/lib/python3.11/site-packages (from pmdarima) (2.1.3)\n",
      "Requirement already satisfied: scikit-learn>=0.22 in /opt/homebrew/lib/python3.11/site-packages (from pmdarima) (1.5.1)\n",
      "Requirement already satisfied: scipy>=1.3.2 in /opt/homebrew/lib/python3.11/site-packages (from pmdarima) (1.14.0)\n",
      "Collecting statsmodels>=0.13.2 (from pmdarima)\n",
      "  Obtaining dependency information for statsmodels>=0.13.2 from https://files.pythonhosted.org/packages/fb/b1/b16836310f6ca89ddfb30fe65f8851c1a8d63152190ed740a236eca15012/statsmodels-0.14.2-cp311-cp311-macosx_11_0_arm64.whl.metadata\n",
      "  Downloading statsmodels-0.14.2-cp311-cp311-macosx_11_0_arm64.whl.metadata (9.2 kB)\n",
      "Requirement already satisfied: urllib3 in /opt/homebrew/lib/python3.11/site-packages (from pmdarima) (2.1.0)\n",
      "Requirement already satisfied: setuptools!=50.0.0,>=38.6.0 in /opt/homebrew/lib/python3.11/site-packages (from pmdarima) (68.2.2)\n",
      "Requirement already satisfied: packaging>=17.1 in /opt/homebrew/lib/python3.11/site-packages (from pmdarima) (23.2)\n",
      "Requirement already satisfied: python-dateutil>=2.8.2 in /opt/homebrew/lib/python3.11/site-packages (from pandas>=0.19->pmdarima) (2.8.2)\n",
      "Requirement already satisfied: pytz>=2020.1 in /opt/homebrew/lib/python3.11/site-packages (from pandas>=0.19->pmdarima) (2023.3.post1)\n",
      "Requirement already satisfied: tzdata>=2022.1 in /opt/homebrew/lib/python3.11/site-packages (from pandas>=0.19->pmdarima) (2023.3)\n",
      "Requirement already satisfied: threadpoolctl>=3.1.0 in /opt/homebrew/lib/python3.11/site-packages (from scikit-learn>=0.22->pmdarima) (3.5.0)\n",
      "Collecting patsy>=0.5.6 (from statsmodels>=0.13.2->pmdarima)\n",
      "  Obtaining dependency information for patsy>=0.5.6 from https://files.pythonhosted.org/packages/43/f3/1d311a09c34f14f5973bb0bb0dc3a6e007e1eda90b5492d082689936ca51/patsy-0.5.6-py2.py3-none-any.whl.metadata\n",
      "  Downloading patsy-0.5.6-py2.py3-none-any.whl.metadata (3.5 kB)\n",
      "Requirement already satisfied: six in /opt/homebrew/lib/python3.11/site-packages (from patsy>=0.5.6->statsmodels>=0.13.2->pmdarima) (1.16.0)\n",
      "Using cached pmdarima-2.0.4-cp311-cp311-macosx_11_0_arm64.whl (628 kB)\n",
      "Using cached Cython-3.0.10-py2.py3-none-any.whl (1.2 MB)\n",
      "Downloading statsmodels-0.14.2-cp311-cp311-macosx_11_0_arm64.whl (10.1 MB)\n",
      "\u001b[2K   \u001b[90m━━━━━━━━━━━━━━━━━━━━━━━━━━━━━━━━━━━━━━━━\u001b[0m \u001b[32m10.1/10.1 MB\u001b[0m \u001b[31m21.5 MB/s\u001b[0m eta \u001b[36m0:00:00\u001b[0m00:01\u001b[0m0:01\u001b[0m\n",
      "\u001b[?25hDownloading patsy-0.5.6-py2.py3-none-any.whl (233 kB)\n",
      "\u001b[2K   \u001b[90m━━━━━━━━━━━━━━━━━━━━━━━━━━━━━━━━━━━━━━━━\u001b[0m \u001b[32m233.9/233.9 kB\u001b[0m \u001b[31m15.7 MB/s\u001b[0m eta \u001b[36m0:00:00\u001b[0m\n",
      "\u001b[?25hInstalling collected packages: patsy, Cython, statsmodels, pmdarima\n",
      "Successfully installed Cython-3.0.10 patsy-0.5.6 pmdarima-2.0.4 statsmodels-0.14.2\n",
      "\n",
      "\u001b[1m[\u001b[0m\u001b[34;49mnotice\u001b[0m\u001b[1;39;49m]\u001b[0m\u001b[39;49m A new release of pip is available: \u001b[0m\u001b[31;49m23.2.1\u001b[0m\u001b[39;49m -> \u001b[0m\u001b[32;49m24.1.2\u001b[0m\n",
      "\u001b[1m[\u001b[0m\u001b[34;49mnotice\u001b[0m\u001b[1;39;49m]\u001b[0m\u001b[39;49m To update, run: \u001b[0m\u001b[32;49mpython3.11 -m pip install --upgrade pip\u001b[0m\n",
      "Note: you may need to restart the kernel to use updated packages.\n"
     ]
    }
   ],
   "source": [
    "pip install pmdarima\n"
   ]
  },
  {
   "cell_type": "code",
   "execution_count": 42,
   "metadata": {},
   "outputs": [
    {
     "name": "stderr",
     "output_type": "stream",
     "text": [
      "/var/folders/6k/r_smdd550yddqpmrhzs0gqyh0000gn/T/ipykernel_68774/1522092881.py:6: SettingWithCopyWarning: \n",
      "A value is trying to be set on a copy of a slice from a DataFrame.\n",
      "Try using .loc[row_indexer,col_indexer] = value instead\n",
      "\n",
      "See the caveats in the documentation: https://pandas.pydata.org/pandas-docs/stable/user_guide/indexing.html#returning-a-view-versus-a-copy\n",
      "  train_data['day_of_year'] = train_data['MSR_DT'].dt.dayofyear\n"
     ]
    },
    {
     "name": "stdout",
     "output_type": "stream",
     "text": [
      "Optimized 'd' = 1\n"
     ]
    }
   ],
   "source": [
    "import pmdarima as pm\n",
    "\n",
    "# differing 차분\n",
    "\n",
    "# Assuming 'train_data' has a datetime column named 'date'\n",
    "train_data['day_of_year'] = train_data['MSR_DT'].dt.dayofyear\n",
    "\n",
    "KPSS_diffs = pm.arima.ndiffs(train_data[['day_of_year']], alpha=0.05, test='kpss', max_d=5)\n",
    "ADF_diffs = pm.arima.ndiffs(train_data[['day_of_year']], alpha=0.05, test='adf', max_d=5)\n",
    "n_diffs = max(KPSS_diffs, ADF_diffs)\n",
    "\n",
    "print(f\"Optimized 'd' = {n_diffs}\")\n"
   ]
  },
  {
   "cell_type": "code",
   "execution_count": 44,
   "metadata": {},
   "outputs": [
    {
     "name": "stdout",
     "output_type": "stream",
     "text": [
      "Performing stepwise search to minimize aic\n"
     ]
    },
    {
     "name": "stderr",
     "output_type": "stream",
     "text": [
      "/opt/homebrew/lib/python3.11/site-packages/statsmodels/tsa/statespace/sarimax.py:1898: RuntimeWarning: divide by zero encountered in reciprocal\n",
      "  return np.roots(self.polynomial_reduced_ar)**-1\n",
      "/opt/homebrew/lib/python3.11/site-packages/statsmodels/tsa/statespace/sarimax.py:1905: RuntimeWarning: divide by zero encountered in reciprocal\n",
      "  return np.roots(self.polynomial_reduced_ma)**-1\n"
     ]
    },
    {
     "name": "stdout",
     "output_type": "stream",
     "text": [
      " ARIMA(2,1,2)(0,0,0)[0] intercept   : AIC=4859546.155, Time=24.25 sec\n",
      " ARIMA(0,1,0)(0,0,0)[0] intercept   : AIC=4859538.155, Time=8.80 sec\n",
      " ARIMA(1,1,0)(0,0,0)[0] intercept   : AIC=4859540.155, Time=11.32 sec\n",
      " ARIMA(0,1,1)(0,0,0)[0] intercept   : AIC=4859540.155, Time=15.24 sec\n",
      " ARIMA(0,1,0)(0,0,0)[0]             : AIC=4859536.156, Time=4.58 sec\n",
      " ARIMA(1,1,1)(0,0,0)[0] intercept   : AIC=4859542.155, Time=18.61 sec\n",
      "\n",
      "Best model:  ARIMA(0,1,0)(0,0,0)[0]          \n",
      "Total fit time: 82.815 seconds\n"
     ]
    },
    {
     "name": "stderr",
     "output_type": "stream",
     "text": [
      "/opt/homebrew/lib/python3.11/site-packages/statsmodels/tsa/statespace/sarimax.py:1898: RuntimeWarning: divide by zero encountered in reciprocal\n",
      "  return np.roots(self.polynomial_reduced_ar)**-1\n",
      "/opt/homebrew/lib/python3.11/site-packages/statsmodels/tsa/statespace/sarimax.py:1905: RuntimeWarning: divide by zero encountered in reciprocal\n",
      "  return np.roots(self.polynomial_reduced_ma)**-1\n"
     ]
    }
   ],
   "source": [
    "# default setting\n",
    "model_default = pm.auto_arima(train_data['day_of_year'], d=1, seasonal=False, trace=True)\n"
   ]
  },
  {
   "cell_type": "markdown",
   "metadata": {},
   "source": [
    "설명:\n",
    "\n",
    "pm.auto_arima: pmdarima 라이브러리의 auto_arima 함수를 사용하여 자동으로 ARIMA 모델을 생성합니다.\n",
    "train_data['day_of_year']: train_data에서 'day_of_year' 열을 추출합니다 (앞 코드에서 정의).\n",
    "d=1: 초기 차분 계수를 1로 설정합니다.\n",
    "seasonal=False: 계절성을 고려하지 않는 ARIMA 모델을 생성합니다.\n",
    "trace=True: 모델 생성 과정을 출력합니다.\n",
    "\n",
    "---\n",
    "\n",
    "최적 모델 찾기:\n",
    "Performing stepwise search to minimize aic: 코드는 AIC (Akaike Information Criterion) 값을 최소화하기 위해 단계적 검색을 수행한다. AIC는 모델의 복잡성과 적합성을 균형 있게 평가하는 지표이다.\n",
    "모델 평가:\n",
    "코드는 여러 ARIMA 모델을 평가하고 각 모델에 대한 AIC 값과 계산 시간을 출력한다.\n",
    "예를 들어, ARIMA(2,1,2)(0,0,0)[0] intercept : AIC=4859546.155, Time=24.25 sec은 ARIMA(2,1,2) 모델의 AIC 값이 4859546.155이고 계산 시간은 24.25초임을 의미한다.\n",
    "최적 모델 선택:\n",
    "Best model: ARIMA(0,1,0)(0,0,0)[0]: 코드는 AIC 값이 가장 낮은 ARIMA(0,1,0)(0,0,0)[0]\n",
    "\n",
    "---\n",
    "\n",
    "ARIMA 모델에서 intercept (절편)의 존재 여부는 모델의 특성과 데이터에 따라 결정됩니다.\n",
    "\n",
    "1. Intercept가 있는 ARIMA 모델:\n",
    "\n",
    "정의: 절편은 시간 변수가 0일 때 예측되는 값을 나타냅니다. 즉, 모델이 시간에 관계없이 일정한 기본 수준의 값을 예측한다는 것을 의미합니다.\n",
    "예시:\n",
    "일일 평균 기온 모델: 절편은 평균 기온을 나타냅니다.\n",
    "시간 경과에 따라 변화하는 추세가 없는 데이터: 절편은 데이터의 평균값을 나타냅니다.\n",
    "2. Intercept가 없는 ARIMA 모델:\n",
    "\n",
    "정의: 절편이 없는 ARIMA 모델은 시간 변수가 0일 때 예측되는 값이 0이라는 것을 의미합니다. 즉, 모델은 시간에 따라 변화하는 값만 예측하고 일정한 기본 수준은 고려하지 않습니다.\n",
    "예시:\n",
    "주식 가격 변동 모델: 주식 가격은 시간에 따라 지속적으로 변화하기 때문에 절편이 없을 가능성이 높습니다.\n",
    "계절성이 강한 데이터: 데이터의 변화가 주로 계절성에 의해 영향을 받는 경우 절편이 필요하지 않을 수 있습니다.\n",
    "3. 모델 선택:\n",
    "\n",
    "모델에 intercept를 포함할지 여부는 데이터의 특성을 고려하여 결정해야 합니다.\n",
    "데이터에 명확한 기준 수준이 있는 경우 (예: 평균 기온) intercept를 포함하는 모델이 적합할 수 있습니다.\n",
    "데이터가 시간에 따라 지속적으로 변화하고 일정한 기준 수준이 없는 경우 intercept 없는 모델이 적합할 수 있습니다.\n",
    "주의 사항:\n",
    "\n",
    "intercept의 존재 여부는 모델의 성능에 영향을 미칠 수 있습니다.\n",
    "적절한 모델 선택을 위해서는 데이터의 특성을 이해하고, intercept 유무에 따른 모델 성능 차이를 비교 분석하는 것이 중요합니다.\n",
    "코드에서 intercept 유무 확인:\n",
    "\n",
    "제공된 코드에서 ARIMA(0,1,0)(0,0,0)[0] 모델은 intercept가 없는 모델입니다.\n",
    "이는 코드에서 intercept 매개변수가 명시적으로 설정되지 않았기 때문입니다.\n",
    "\n",
    "만약 intercept를 포함하는 모델을 원한다면 intercept=True 매개변수를 설정하여 pm.auto_arima 함수를 호출해야 합니다"
   ]
  },
  {
   "cell_type": "code",
   "execution_count": 45,
   "metadata": {},
   "outputs": [
    {
     "name": "stdout",
     "output_type": "stream",
     "text": [
      "Performing stepwise search to minimize aic\n",
      " ARIMA(0,1,0)(0,0,0)[0] intercept   : AIC=4859538.155, Time=9.17 sec\n",
      " ARIMA(1,1,0)(0,0,0)[0] intercept   : AIC=4859540.155, Time=11.45 sec\n",
      " ARIMA(0,1,1)(0,0,0)[0] intercept   : AIC=4859540.155, Time=15.13 sec\n",
      " ARIMA(0,1,0)(0,0,0)[0]             : AIC=4859536.156, Time=4.69 sec\n",
      " ARIMA(1,1,1)(0,0,0)[0] intercept   : AIC=4859542.155, Time=18.91 sec\n",
      "\n",
      "Best model:  ARIMA(0,1,0)(0,0,0)[0]          \n",
      "Total fit time: 59.358 seconds\n"
     ]
    },
    {
     "name": "stderr",
     "output_type": "stream",
     "text": [
      "/opt/homebrew/lib/python3.11/site-packages/statsmodels/tsa/statespace/sarimax.py:1898: RuntimeWarning: divide by zero encountered in reciprocal\n",
      "  return np.roots(self.polynomial_reduced_ar)**-1\n",
      "/opt/homebrew/lib/python3.11/site-packages/statsmodels/tsa/statespace/sarimax.py:1905: RuntimeWarning: divide by zero encountered in reciprocal\n",
      "  return np.roots(self.polynomial_reduced_ma)**-1\n"
     ]
    }
   ],
   "source": [
    "# reader's own setting\n",
    "model = pm.auto_arima(y=train_data['day_of_year'],\t\t# 데이터\n",
    "                      d=n_diffs,\t# 차분 (d), 기본값 = None\n",
    "                      start_p= 0,\t# 시작 p값, 기본값 = 2\n",
    "                      max_p = 5,\t# p 최대값, 기본값 = 5\n",
    "                      start_q= 0,\t# 시작 q값, 기본값 = 2\n",
    "                      max_q = 5,\t# q 최대값, 기본값 = 5\n",
    "                      m=1,\t\t\t# season의 주기, 기본값 = 1\n",
    "                      seasonal=False,\t# sARIMA를 실시, 기본값 = True\n",
    "                      stepwise=True,\t# stepwise algorithm, 기본값 = True\n",
    "                      trace=True)\t\t# 각 step을 출력할지, 기본값 = False\n"
   ]
  },
  {
   "cell_type": "markdown",
   "metadata": {},
   "source": [
    "ARIMA 모델에서의 p값과 q값\n",
    "p값:\n",
    "\n",
    "정의: ARIMA 모델에서 p값은 MA(Moving Average) 부분의 차수를 나타냅니다.\n",
    "설명: MA(p)는 과거 오차 p개의 가중 평균을 사용하여 현재 값을 예측하는 모델입니다. p값이 클수록 더 많은 과거 오차를 고려하여 예측을 수행합니다.\n",
    "예시:\n",
    "p=0: 과거 오차를 고려하지 않고 현재 값을 예측합니다.\n",
    "p=1: 가장 최근의 오차만 고려하여 예측합니다.\n",
    "p=2: 최근 두 개의 오차를 고려하여 예측합니다.\n",
    "q값:\n",
    "\n",
    "정의: ARIMA 모델에서 q값은 AR(Autoregressive) 부분의 차수를 나타냅니다.\n",
    "설명: AR(q)는 과거 q개의 값을 사용하여 현재 값을 예측하는 모델입니다. q값이 클수록 더 많은 과거 값을 고려하여 예측을 수행합니다.\n",
    "예시:\n",
    "q=0: 과거 값을 고려하지 않고 현재 값을 예측합니다.\n",
    "q=1: 가장 최근의 값만 고려하여 예측합니다.\n",
    "q=2: 최근 두 개의 값을 고려하여 예측합니다.\n",
    "p값과 q값의 관계:\n",
    "\n",
    "p값과 q값은 서로 영향을 미치며, 적절한 값을 선택하는 것이 중요합니다.\n",
    "일반적으로 p값과 q값은 서로 비슷한 값을 갖는 경우가 많습니다.\n",
    "하지만 데이터의 특성에 따라 p값과 q값의 최적의 조합은 달라질 수 있습니다.\n",
    "코드에서 p값과 q값 설정:\n",
    "\n",
    "제공된 코드에서:\n",
    "\n",
    "start_p=0: p값의 최소 탐색 범위를 0으로 설정합니다.\n",
    "max_p=5: p값의 최대 탐색 범위를 5로 설정합니다.\n",
    "start_q=0: q값의 최소 탐색 범위를 0으로 설정합니다.\n",
    "max_q=5: q값의 최대 탐색 범위를 5로 설정합니다.\n",
    "주의 사항:\n",
    "\n",
    "p값과 q값의 범위를 너무 크게 설정하면 계산 시간이 길어질 수 있습니다.\n",
    "데이터의 특성에 맞는 적절한 p값과 q값을 선택하는 것이 중요합니다."
   ]
  },
  {
   "cell_type": "code",
   "execution_count": 46,
   "metadata": {},
   "outputs": [
    {
     "data": {
      "text/html": [
       "<table class=\"simpletable\">\n",
       "<caption>SARIMAX Results</caption>\n",
       "<tr>\n",
       "  <th>Dep. Variable:</th>           <td>y</td>        <th>  No. Observations:  </th>    <td>877006</td>   \n",
       "</tr>\n",
       "<tr>\n",
       "  <th>Model:</th>           <td>SARIMAX(0, 1, 0)</td> <th>  Log Likelihood     </th> <td>-2429767.078</td>\n",
       "</tr>\n",
       "<tr>\n",
       "  <th>Date:</th>            <td>Wed, 17 Jul 2024</td> <th>  AIC                </th>  <td>4859536.156</td>\n",
       "</tr>\n",
       "<tr>\n",
       "  <th>Time:</th>                <td>17:19:02</td>     <th>  BIC                </th>  <td>4859547.841</td>\n",
       "</tr>\n",
       "<tr>\n",
       "  <th>Sample:</th>                  <td>0</td>        <th>  HQIC               </th>  <td>4859539.389</td>\n",
       "</tr>\n",
       "<tr>\n",
       "  <th></th>                     <td> - 877006</td>    <th>                     </th>       <td> </td>     \n",
       "</tr>\n",
       "<tr>\n",
       "  <th>Covariance Type:</th>        <td>opg</td>       <th>                     </th>       <td> </td>     \n",
       "</tr>\n",
       "</table>\n",
       "<table class=\"simpletable\">\n",
       "<tr>\n",
       "     <td></td>       <th>coef</th>     <th>std err</th>      <th>z</th>      <th>P>|z|</th>  <th>[0.025</th>    <th>0.975]</th>  \n",
       "</tr>\n",
       "<tr>\n",
       "  <th>sigma2</th> <td>   14.9271</td> <td>    0.000</td> <td> 4.38e+04</td> <td> 0.000</td> <td>   14.926</td> <td>   14.928</td>\n",
       "</tr>\n",
       "</table>\n",
       "<table class=\"simpletable\">\n",
       "<tr>\n",
       "  <th>Ljung-Box (L1) (Q):</th>     <td>0.00</td> <th>  Jarque-Bera (JB):  </th> <td>2794341670059.53</td>\n",
       "</tr>\n",
       "<tr>\n",
       "  <th>Prob(Q):</th>                <td>1.00</td> <th>  Prob(JB):          </th>       <td>0.00</td>      \n",
       "</tr>\n",
       "<tr>\n",
       "  <th>Heteroskedasticity (H):</th> <td>1.02</td> <th>  Skew:              </th>      <td>-93.18</td>     \n",
       "</tr>\n",
       "<tr>\n",
       "  <th>Prob(H) (two-sided):</th>    <td>0.00</td> <th>  Kurtosis:          </th>      <td>8745.70</td>    \n",
       "</tr>\n",
       "</table><br/><br/>Warnings:<br/>[1] Covariance matrix calculated using the outer product of gradients (complex-step)."
      ],
      "text/latex": [
       "\\begin{center}\n",
       "\\begin{tabular}{lclc}\n",
       "\\toprule\n",
       "\\textbf{Dep. Variable:}          &        y         & \\textbf{  No. Observations:  } &      877006       \\\\\n",
       "\\textbf{Model:}                  & SARIMAX(0, 1, 0) & \\textbf{  Log Likelihood     } &   -2429767.078    \\\\\n",
       "\\textbf{Date:}                   & Wed, 17 Jul 2024 & \\textbf{  AIC                } &   4859536.156     \\\\\n",
       "\\textbf{Time:}                   &     17:19:02     & \\textbf{  BIC                } &   4859547.841     \\\\\n",
       "\\textbf{Sample:}                 &        0         & \\textbf{  HQIC               } &   4859539.389     \\\\\n",
       "\\textbf{}                        &     - 877006     & \\textbf{                     } &                   \\\\\n",
       "\\textbf{Covariance Type:}        &       opg        & \\textbf{                     } &                   \\\\\n",
       "\\bottomrule\n",
       "\\end{tabular}\n",
       "\\begin{tabular}{lcccccc}\n",
       "                & \\textbf{coef} & \\textbf{std err} & \\textbf{z} & \\textbf{P$> |$z$|$} & \\textbf{[0.025} & \\textbf{0.975]}  \\\\\n",
       "\\midrule\n",
       "\\textbf{sigma2} &      14.9271  &        0.000     &  4.38e+04  &         0.000        &       14.926    &       14.928     \\\\\n",
       "\\bottomrule\n",
       "\\end{tabular}\n",
       "\\begin{tabular}{lclc}\n",
       "\\textbf{Ljung-Box (L1) (Q):}     & 0.00 & \\textbf{  Jarque-Bera (JB):  } & 2794341670059.53  \\\\\n",
       "\\textbf{Prob(Q):}                & 1.00 & \\textbf{  Prob(JB):          } &       0.00        \\\\\n",
       "\\textbf{Heteroskedasticity (H):} & 1.02 & \\textbf{  Skew:              } &      -93.18       \\\\\n",
       "\\textbf{Prob(H) (two-sided):}    & 0.00 & \\textbf{  Kurtosis:          } &     8745.70       \\\\\n",
       "\\bottomrule\n",
       "\\end{tabular}\n",
       "%\\caption{SARIMAX Results}\n",
       "\\end{center}\n",
       "\n",
       "Warnings: \\newline\n",
       " [1] Covariance matrix calculated using the outer product of gradients (complex-step)."
      ],
      "text/plain": [
       "<class 'statsmodels.iolib.summary.Summary'>\n",
       "\"\"\"\n",
       "                               SARIMAX Results                                \n",
       "==============================================================================\n",
       "Dep. Variable:                      y   No. Observations:               877006\n",
       "Model:               SARIMAX(0, 1, 0)   Log Likelihood            -2429767.078\n",
       "Date:                Wed, 17 Jul 2024   AIC                        4859536.156\n",
       "Time:                        17:19:02   BIC                        4859547.841\n",
       "Sample:                             0   HQIC                       4859539.389\n",
       "                             - 877006                                         \n",
       "Covariance Type:                  opg                                         \n",
       "==============================================================================\n",
       "                 coef    std err          z      P>|z|      [0.025      0.975]\n",
       "------------------------------------------------------------------------------\n",
       "sigma2        14.9271      0.000   4.38e+04      0.000      14.926      14.928\n",
       "===================================================================================\n",
       "Ljung-Box (L1) (Q):                   0.00   Jarque-Bera (JB):     2794341670059.53\n",
       "Prob(Q):                              1.00   Prob(JB):                         0.00\n",
       "Heteroskedasticity (H):               1.02   Skew:                           -93.18\n",
       "Prob(H) (two-sided):                  0.00   Kurtosis:                      8745.70\n",
       "===================================================================================\n",
       "\n",
       "Warnings:\n",
       "[1] Covariance matrix calculated using the outer product of gradients (complex-step).\n",
       "\"\"\""
      ]
     },
     "execution_count": 46,
     "metadata": {},
     "output_type": "execute_result"
    }
   ],
   "source": [
    "model.summary()\n",
    "# 같은 모델이지만 시간이 더 짧게 걸려서 선택\n"
   ]
  },
  {
   "cell_type": "markdown",
   "metadata": {},
   "source": [
    "SARIMAX 모델 결과 해석\n",
    "데이터:\n",
    "\n",
    "종속 변수: y\n",
    "관측치 수: 877,006\n",
    "모델:\n",
    "\n",
    "종류: SARIMAX(0, 1, 0)\n",
    "p: 0 (AR 부분의 차수)\n",
    "d: 1 (차분 차수)\n",
    "q: 0 (MA 부분의 차수)\n",
    "로그 우도: -2,429,767.078\n",
    "AIC: 4,859,536.156\n",
    "BIC: 4,859,547.841\n",
    "HQC: 4,859,539.389\n",
    "샘플 크기: 0\n",
    "추론 기간: 877,006\n",
    "공분산 유형: opg\n",
    "모델 계수:\n",
    "\n",
    "sigma2: 14.9271 (표준 편차의 제곱)\n",
    "모델 진단:\n",
    "\n",
    "Ljung-Box 검정 (L1): Q 통계량: 0.00, p-값: 1.00 (잔차에 자기 상관이 없음을 나타냄)\n",
    "Jarque-Bera 검정: JB 통계량: 2794341670059.53, p-값: 0.00 (정규성 가정 위반을 나타냄)\n",
    "변이성 검정 (H): H 통계량: 1.02, p-값: 0.00 (잔차의 변이성이 일정하지 않음을 나타냄)\n",
    "치우침: -93.18\n",
    "첨성: 8745.70\n",
    "해석\n",
    "제공된 SARIMAX 모델 결과는 y라는 종속 변수를 예측하는 데 사용됩니다. 모델은 ARIMA(0, 1, 0) 구조를 사용하며, 1차 차분을 적용합니다.\n",
    "\n",
    "모델 성능:\n",
    "\n",
    "AIC, BIC, HQC 지표는 모델의 복잡성과 적합성을 평가하는 데 사용됩니다. 이 지표 값이 낮을수록 더 나은 모델임을 나타냅니다. 본 모델의 경우 AIC, BIC, HQC 값이 모두 비교적 낮아 모델 성능이 양호하다고 판단됩니다.\n",
    "Ljung-Box 검정 결과, 잔차에 자기 상관이 없음을 확인했습니다. 이는 모델이 과거 데이터를 잘 반영하고 있다는 것을 의미합니다.\n",
    "Jarque-Bera 검정 결과, 정규성 가정이 위반되었음을 확인했습니다. 이는 잔차가 정규 분포를 따르지 않음을 의미합니다. 하지만 시계열 분석에서 정규성 가정 위반은 흔히 발생하며, 모델 성능에 큰 영향을 미치지 않는 경우가 많습니다.\n",
    "변이성 검정 결과, 잔차의 변이성이 일정하지 않음을 확인했습니다. 이는 잔차의 분산이 시간에 따라 변할 수 있음을 의미합니다. 이 문제는 변환이나 가중치를 사용하여 해결할 수 있습니다.\n",
    "치우침과 첨성 지표는 잔차 분포의 모양을 나타냅니다. 본 모델의 경우 잔차 분포가 오른쪽으로 치우쳐 있고 첨성이 매우 높다는 것을 확인했습니다. 이는 잔차 분포가 정규 분포와 크게 다르다는 것을 의미합니다.\n",
    "주의 사항:\n",
    "\n",
    "SARIMAX 모델은 시계열 데이터 분석에 유용한 도구이지만, 모델 선택 및 해석에는 주의가 필요합니다.\n",
    "모델 진단 결과를 통해 모델 성능을 평가하고 필요한 경우 모델 개선을 시도해야 합니다.\n",
    "잔차 분포의 정규성 가정 위반이나 변이성 불일정 문제는 모델 성능에 영향을 미칠 수 있으므로 주의해야 합니다.\n",
    "추가 분석:\n",
    "\n",
    "잔차 분석을 통해 모델의 적합성을 더 자세히 평가할 수 있습니다.\n",
    "다른 ARIMA 모델이나 SARIMAX 모델을 비교 분석하여 최적의 모델을 선택할 수 있습니다.\n",
    "변환이나 가중치를 사용하여 잔차 분포의 정규성 가정 위반"
   ]
  },
  {
   "cell_type": "code",
   "execution_count": 48,
   "metadata": {},
   "outputs": [
    {
     "data": {
      "text/plain": [
       "(219252, 11)"
      ]
     },
     "execution_count": 48,
     "metadata": {},
     "output_type": "execute_result"
    }
   ],
   "source": [
    "test_data.shape\n"
   ]
  },
  {
   "cell_type": "code",
   "execution_count": 49,
   "metadata": {},
   "outputs": [
    {
     "name": "stderr",
     "output_type": "stream",
     "text": [
      "/opt/homebrew/lib/python3.11/site-packages/statsmodels/tsa/base/tsa_model.py:836: ValueWarning: No supported index is available. Prediction results will be given with an integer index beginning at `start`.\n",
      "  return get_prediction_index(\n",
      "/opt/homebrew/lib/python3.11/site-packages/statsmodels/tsa/base/tsa_model.py:836: FutureWarning: No supported index is available. In the next version, calling this method in a model without a supported index will result in an exception.\n",
      "  return get_prediction_index(\n"
     ]
    },
    {
     "ename": "ValueError",
     "evalue": "2",
     "output_type": "error",
     "traceback": [
      "\u001b[0;31m---------------------------------------------------------------------------\u001b[0m",
      "\u001b[0;31mValueError\u001b[0m                                Traceback (most recent call last)",
      "Cell \u001b[0;32mIn[49], line 3\u001b[0m\n\u001b[1;32m      1\u001b[0m pred \u001b[38;5;241m=\u001b[39m model\u001b[38;5;241m.\u001b[39mpredict(n_periods\u001b[38;5;241m=\u001b[39m\u001b[38;5;28mlen\u001b[39m(test_data))\u001b[38;5;241m.\u001b[39mto_list()\n\u001b[1;32m      2\u001b[0m \u001b[38;5;66;03m# 데이터프레임 생성\u001b[39;00m\n\u001b[0;32m----> 3\u001b[0m test_pred \u001b[38;5;241m=\u001b[39m \u001b[43mpd\u001b[49m\u001b[38;5;241;43m.\u001b[39;49m\u001b[43mDataFrame\u001b[49m\u001b[43m(\u001b[49m\u001b[43m{\u001b[49m\u001b[38;5;124;43m'\u001b[39;49m\u001b[38;5;124;43mtest\u001b[39;49m\u001b[38;5;124;43m'\u001b[39;49m\u001b[43m:\u001b[49m\u001b[43mtest_data\u001b[49m\u001b[43m,\u001b[49m\u001b[43m \u001b[49m\u001b[38;5;124;43m'\u001b[39;49m\u001b[38;5;124;43mpred\u001b[39;49m\u001b[38;5;124;43m'\u001b[39;49m\u001b[43m:\u001b[49m\u001b[43mpred\u001b[49m\u001b[43m}\u001b[49m\u001b[43m,\u001b[49m\u001b[43m \u001b[49m\u001b[43mindex\u001b[49m\u001b[38;5;241;43m=\u001b[39;49m\u001b[43mtest_data\u001b[49m\u001b[38;5;241;43m.\u001b[39;49m\u001b[43mindex\u001b[49m\u001b[43m)\u001b[49m\n\u001b[1;32m      4\u001b[0m test_pred\n",
      "File \u001b[0;32m/opt/homebrew/lib/python3.11/site-packages/pandas/core/frame.py:733\u001b[0m, in \u001b[0;36mDataFrame.__init__\u001b[0;34m(self, data, index, columns, dtype, copy)\u001b[0m\n\u001b[1;32m    727\u001b[0m     mgr \u001b[38;5;241m=\u001b[39m \u001b[38;5;28mself\u001b[39m\u001b[38;5;241m.\u001b[39m_init_mgr(\n\u001b[1;32m    728\u001b[0m         data, axes\u001b[38;5;241m=\u001b[39m{\u001b[38;5;124m\"\u001b[39m\u001b[38;5;124mindex\u001b[39m\u001b[38;5;124m\"\u001b[39m: index, \u001b[38;5;124m\"\u001b[39m\u001b[38;5;124mcolumns\u001b[39m\u001b[38;5;124m\"\u001b[39m: columns}, dtype\u001b[38;5;241m=\u001b[39mdtype, copy\u001b[38;5;241m=\u001b[39mcopy\n\u001b[1;32m    729\u001b[0m     )\n\u001b[1;32m    731\u001b[0m \u001b[38;5;28;01melif\u001b[39;00m \u001b[38;5;28misinstance\u001b[39m(data, \u001b[38;5;28mdict\u001b[39m):\n\u001b[1;32m    732\u001b[0m     \u001b[38;5;66;03m# GH#38939 de facto copy defaults to False only in non-dict cases\u001b[39;00m\n\u001b[0;32m--> 733\u001b[0m     mgr \u001b[38;5;241m=\u001b[39m \u001b[43mdict_to_mgr\u001b[49m\u001b[43m(\u001b[49m\u001b[43mdata\u001b[49m\u001b[43m,\u001b[49m\u001b[43m \u001b[49m\u001b[43mindex\u001b[49m\u001b[43m,\u001b[49m\u001b[43m \u001b[49m\u001b[43mcolumns\u001b[49m\u001b[43m,\u001b[49m\u001b[43m \u001b[49m\u001b[43mdtype\u001b[49m\u001b[38;5;241;43m=\u001b[39;49m\u001b[43mdtype\u001b[49m\u001b[43m,\u001b[49m\u001b[43m \u001b[49m\u001b[43mcopy\u001b[49m\u001b[38;5;241;43m=\u001b[39;49m\u001b[43mcopy\u001b[49m\u001b[43m,\u001b[49m\u001b[43m \u001b[49m\u001b[43mtyp\u001b[49m\u001b[38;5;241;43m=\u001b[39;49m\u001b[43mmanager\u001b[49m\u001b[43m)\u001b[49m\n\u001b[1;32m    734\u001b[0m \u001b[38;5;28;01melif\u001b[39;00m \u001b[38;5;28misinstance\u001b[39m(data, ma\u001b[38;5;241m.\u001b[39mMaskedArray):\n\u001b[1;32m    735\u001b[0m     \u001b[38;5;28;01mfrom\u001b[39;00m \u001b[38;5;21;01mnumpy\u001b[39;00m\u001b[38;5;21;01m.\u001b[39;00m\u001b[38;5;21;01mma\u001b[39;00m \u001b[38;5;28;01mimport\u001b[39;00m mrecords\n",
      "File \u001b[0;32m/opt/homebrew/lib/python3.11/site-packages/pandas/core/internals/construction.py:503\u001b[0m, in \u001b[0;36mdict_to_mgr\u001b[0;34m(data, index, columns, dtype, typ, copy)\u001b[0m\n\u001b[1;32m    499\u001b[0m     \u001b[38;5;28;01melse\u001b[39;00m:\n\u001b[1;32m    500\u001b[0m         \u001b[38;5;66;03m# dtype check to exclude e.g. range objects, scalars\u001b[39;00m\n\u001b[1;32m    501\u001b[0m         arrays \u001b[38;5;241m=\u001b[39m [x\u001b[38;5;241m.\u001b[39mcopy() \u001b[38;5;28;01mif\u001b[39;00m \u001b[38;5;28mhasattr\u001b[39m(x, \u001b[38;5;124m\"\u001b[39m\u001b[38;5;124mdtype\u001b[39m\u001b[38;5;124m\"\u001b[39m) \u001b[38;5;28;01melse\u001b[39;00m x \u001b[38;5;28;01mfor\u001b[39;00m x \u001b[38;5;129;01min\u001b[39;00m arrays]\n\u001b[0;32m--> 503\u001b[0m \u001b[38;5;28;01mreturn\u001b[39;00m \u001b[43marrays_to_mgr\u001b[49m\u001b[43m(\u001b[49m\u001b[43marrays\u001b[49m\u001b[43m,\u001b[49m\u001b[43m \u001b[49m\u001b[43mcolumns\u001b[49m\u001b[43m,\u001b[49m\u001b[43m \u001b[49m\u001b[43mindex\u001b[49m\u001b[43m,\u001b[49m\u001b[43m \u001b[49m\u001b[43mdtype\u001b[49m\u001b[38;5;241;43m=\u001b[39;49m\u001b[43mdtype\u001b[49m\u001b[43m,\u001b[49m\u001b[43m \u001b[49m\u001b[43mtyp\u001b[49m\u001b[38;5;241;43m=\u001b[39;49m\u001b[43mtyp\u001b[49m\u001b[43m,\u001b[49m\u001b[43m \u001b[49m\u001b[43mconsolidate\u001b[49m\u001b[38;5;241;43m=\u001b[39;49m\u001b[43mcopy\u001b[49m\u001b[43m)\u001b[49m\n",
      "File \u001b[0;32m/opt/homebrew/lib/python3.11/site-packages/pandas/core/internals/construction.py:119\u001b[0m, in \u001b[0;36marrays_to_mgr\u001b[0;34m(arrays, columns, index, dtype, verify_integrity, typ, consolidate)\u001b[0m\n\u001b[1;32m    116\u001b[0m         index \u001b[38;5;241m=\u001b[39m ensure_index(index)\n\u001b[1;32m    118\u001b[0m     \u001b[38;5;66;03m# don't force copy because getting jammed in an ndarray anyway\u001b[39;00m\n\u001b[0;32m--> 119\u001b[0m     arrays, refs \u001b[38;5;241m=\u001b[39m \u001b[43m_homogenize\u001b[49m\u001b[43m(\u001b[49m\u001b[43marrays\u001b[49m\u001b[43m,\u001b[49m\u001b[43m \u001b[49m\u001b[43mindex\u001b[49m\u001b[43m,\u001b[49m\u001b[43m \u001b[49m\u001b[43mdtype\u001b[49m\u001b[43m)\u001b[49m\n\u001b[1;32m    120\u001b[0m     \u001b[38;5;66;03m# _homogenize ensures\u001b[39;00m\n\u001b[1;32m    121\u001b[0m     \u001b[38;5;66;03m#  - all(len(x) == len(index) for x in arrays)\u001b[39;00m\n\u001b[1;32m    122\u001b[0m     \u001b[38;5;66;03m#  - all(x.ndim == 1 for x in arrays)\u001b[39;00m\n\u001b[0;32m   (...)\u001b[0m\n\u001b[1;32m    125\u001b[0m \n\u001b[1;32m    126\u001b[0m \u001b[38;5;28;01melse\u001b[39;00m:\n\u001b[1;32m    127\u001b[0m     index \u001b[38;5;241m=\u001b[39m ensure_index(index)\n",
      "File \u001b[0;32m/opt/homebrew/lib/python3.11/site-packages/pandas/core/internals/construction.py:629\u001b[0m, in \u001b[0;36m_homogenize\u001b[0;34m(data, index, dtype)\u001b[0m\n\u001b[1;32m    626\u001b[0m         val \u001b[38;5;241m=\u001b[39m \u001b[38;5;28mdict\u001b[39m(val)\n\u001b[1;32m    627\u001b[0m     val \u001b[38;5;241m=\u001b[39m lib\u001b[38;5;241m.\u001b[39mfast_multiget(val, oindex\u001b[38;5;241m.\u001b[39m_values, default\u001b[38;5;241m=\u001b[39mnp\u001b[38;5;241m.\u001b[39mnan)\n\u001b[0;32m--> 629\u001b[0m val \u001b[38;5;241m=\u001b[39m \u001b[43msanitize_array\u001b[49m\u001b[43m(\u001b[49m\u001b[43mval\u001b[49m\u001b[43m,\u001b[49m\u001b[43m \u001b[49m\u001b[43mindex\u001b[49m\u001b[43m,\u001b[49m\u001b[43m \u001b[49m\u001b[43mdtype\u001b[49m\u001b[38;5;241;43m=\u001b[39;49m\u001b[43mdtype\u001b[49m\u001b[43m,\u001b[49m\u001b[43m \u001b[49m\u001b[43mcopy\u001b[49m\u001b[38;5;241;43m=\u001b[39;49m\u001b[38;5;28;43;01mFalse\u001b[39;49;00m\u001b[43m)\u001b[49m\n\u001b[1;32m    630\u001b[0m com\u001b[38;5;241m.\u001b[39mrequire_length_match(val, index)\n\u001b[1;32m    631\u001b[0m refs\u001b[38;5;241m.\u001b[39mappend(\u001b[38;5;28;01mNone\u001b[39;00m)\n",
      "File \u001b[0;32m/opt/homebrew/lib/python3.11/site-packages/pandas/core/construction.py:620\u001b[0m, in \u001b[0;36msanitize_array\u001b[0;34m(data, index, dtype, copy, allow_2d)\u001b[0m\n\u001b[1;32m    617\u001b[0m \u001b[38;5;28;01melif\u001b[39;00m \u001b[38;5;28mhasattr\u001b[39m(data, \u001b[38;5;124m\"\u001b[39m\u001b[38;5;124m__array__\u001b[39m\u001b[38;5;124m\"\u001b[39m):\n\u001b[1;32m    618\u001b[0m     \u001b[38;5;66;03m# e.g. dask array GH#38645\u001b[39;00m\n\u001b[1;32m    619\u001b[0m     data \u001b[38;5;241m=\u001b[39m np\u001b[38;5;241m.\u001b[39marray(data, copy\u001b[38;5;241m=\u001b[39mcopy)\n\u001b[0;32m--> 620\u001b[0m     \u001b[38;5;28;01mreturn\u001b[39;00m \u001b[43msanitize_array\u001b[49m\u001b[43m(\u001b[49m\n\u001b[1;32m    621\u001b[0m \u001b[43m        \u001b[49m\u001b[43mdata\u001b[49m\u001b[43m,\u001b[49m\n\u001b[1;32m    622\u001b[0m \u001b[43m        \u001b[49m\u001b[43mindex\u001b[49m\u001b[38;5;241;43m=\u001b[39;49m\u001b[43mindex\u001b[49m\u001b[43m,\u001b[49m\n\u001b[1;32m    623\u001b[0m \u001b[43m        \u001b[49m\u001b[43mdtype\u001b[49m\u001b[38;5;241;43m=\u001b[39;49m\u001b[43mdtype\u001b[49m\u001b[43m,\u001b[49m\n\u001b[1;32m    624\u001b[0m \u001b[43m        \u001b[49m\u001b[43mcopy\u001b[49m\u001b[38;5;241;43m=\u001b[39;49m\u001b[38;5;28;43;01mFalse\u001b[39;49;00m\u001b[43m,\u001b[49m\n\u001b[1;32m    625\u001b[0m \u001b[43m        \u001b[49m\u001b[43mallow_2d\u001b[49m\u001b[38;5;241;43m=\u001b[39;49m\u001b[43mallow_2d\u001b[49m\u001b[43m,\u001b[49m\n\u001b[1;32m    626\u001b[0m \u001b[43m    \u001b[49m\u001b[43m)\u001b[49m\n\u001b[1;32m    628\u001b[0m \u001b[38;5;28;01melse\u001b[39;00m:\n\u001b[1;32m    629\u001b[0m     _sanitize_non_ordered(data)\n",
      "File \u001b[0;32m/opt/homebrew/lib/python3.11/site-packages/pandas/core/construction.py:603\u001b[0m, in \u001b[0;36msanitize_array\u001b[0;34m(data, index, dtype, copy, allow_2d)\u001b[0m\n\u001b[1;32m    601\u001b[0m subarr \u001b[38;5;241m=\u001b[39m data\n\u001b[1;32m    602\u001b[0m \u001b[38;5;28;01mif\u001b[39;00m data\u001b[38;5;241m.\u001b[39mdtype \u001b[38;5;241m==\u001b[39m \u001b[38;5;28mobject\u001b[39m:\n\u001b[0;32m--> 603\u001b[0m     subarr \u001b[38;5;241m=\u001b[39m \u001b[43mmaybe_infer_to_datetimelike\u001b[49m\u001b[43m(\u001b[49m\u001b[43mdata\u001b[49m\u001b[43m)\u001b[49m\n\u001b[1;32m    604\u001b[0m \u001b[38;5;28;01melif\u001b[39;00m data\u001b[38;5;241m.\u001b[39mdtype\u001b[38;5;241m.\u001b[39mkind \u001b[38;5;241m==\u001b[39m \u001b[38;5;124m\"\u001b[39m\u001b[38;5;124mU\u001b[39m\u001b[38;5;124m\"\u001b[39m \u001b[38;5;129;01mand\u001b[39;00m using_pyarrow_string_dtype():\n\u001b[1;32m    605\u001b[0m     \u001b[38;5;28;01mfrom\u001b[39;00m \u001b[38;5;21;01mpandas\u001b[39;00m\u001b[38;5;21;01m.\u001b[39;00m\u001b[38;5;21;01mcore\u001b[39;00m\u001b[38;5;21;01m.\u001b[39;00m\u001b[38;5;21;01marrays\u001b[39;00m\u001b[38;5;21;01m.\u001b[39;00m\u001b[38;5;21;01mstring_\u001b[39;00m \u001b[38;5;28;01mimport\u001b[39;00m StringDtype\n",
      "File \u001b[0;32m/opt/homebrew/lib/python3.11/site-packages/pandas/core/dtypes/cast.py:1172\u001b[0m, in \u001b[0;36mmaybe_infer_to_datetimelike\u001b[0;34m(value)\u001b[0m\n\u001b[1;32m   1169\u001b[0m     \u001b[38;5;28;01mraise\u001b[39;00m \u001b[38;5;167;01mTypeError\u001b[39;00m(\u001b[38;5;28mtype\u001b[39m(value))  \u001b[38;5;66;03m# pragma: no cover\u001b[39;00m\n\u001b[1;32m   1170\u001b[0m \u001b[38;5;28;01mif\u001b[39;00m value\u001b[38;5;241m.\u001b[39mndim \u001b[38;5;241m!=\u001b[39m \u001b[38;5;241m1\u001b[39m:\n\u001b[1;32m   1171\u001b[0m     \u001b[38;5;66;03m# Caller is responsible\u001b[39;00m\n\u001b[0;32m-> 1172\u001b[0m     \u001b[38;5;28;01mraise\u001b[39;00m \u001b[38;5;167;01mValueError\u001b[39;00m(value\u001b[38;5;241m.\u001b[39mndim)  \u001b[38;5;66;03m# pragma: no cover\u001b[39;00m\n\u001b[1;32m   1174\u001b[0m \u001b[38;5;28;01mif\u001b[39;00m \u001b[38;5;129;01mnot\u001b[39;00m \u001b[38;5;28mlen\u001b[39m(value):\n\u001b[1;32m   1175\u001b[0m     \u001b[38;5;28;01mreturn\u001b[39;00m value\n",
      "\u001b[0;31mValueError\u001b[0m: 2"
     ]
    }
   ],
   "source": [
    "pred = model.predict(n_periods=len(test_data)).to_list()\n",
    "# 데이터프레임 생성\n",
    "test_pred = pd.DataFrame({'test':test_data, 'pred':pred}, index=test_data.index)\n",
    "test_pred"
   ]
  }
 ],
 "metadata": {
  "kernelspec": {
   "display_name": "base",
   "language": "python",
   "name": "python3"
  },
  "language_info": {
   "codemirror_mode": {
    "name": "ipython",
    "version": 3
   },
   "file_extension": ".py",
   "mimetype": "text/x-python",
   "name": "python",
   "nbconvert_exporter": "python",
   "pygments_lexer": "ipython3",
   "version": "3.11.6"
  }
 },
 "nbformat": 4,
 "nbformat_minor": 2
}
